{
 "cells": [
  {
   "cell_type": "code",
   "execution_count": 1,
   "metadata": {},
   "outputs": [],
   "source": [
    "import tensorflow as tf\n",
    "import numpy as np\n",
    "from tensorflow.keras import layers"
   ]
  },
  {
   "cell_type": "code",
   "execution_count": 2,
   "metadata": {},
   "outputs": [
    {
     "name": "stdout",
     "output_type": "stream",
     "text": [
      "[PhysicalDevice(name='/physical_device:GPU:0', device_type='GPU')]\n"
     ]
    }
   ],
   "source": [
    "import os\n",
    "os.environ[\"CUDA_DEVICE_ORDER\"]=\"PCI_BUS_ID\"\n",
    "# The GPU id to use, usually either \"0\" or \"1\"\n",
    "os.environ[\"CUDA_VISIBLE_DEVICES\"] = \"0\"   \n",
    "gpus = tf.config.experimental.list_physical_devices(device_type='GPU')\n",
    "print(gpus)\n",
    "for gpu in gpus:\n",
    "    tf.config.experimental.set_memory_growth(gpu,True)#动态分配gpu别让tf一下占满"
   ]
  },
  {
   "cell_type": "code",
   "execution_count": 3,
   "metadata": {},
   "outputs": [],
   "source": [
    "# a = tf.random.uniform(shape=(10,100,50),minval= -0.5,maxval=0.5,dtype=tf.float32)\n",
    "# x = tf.keras.layers.LSTM(100)(a)\n",
    "# x = tf.keras.layers.Dense(10)(x)\n",
    "# x = tf.nn.softmax(x)"
   ]
  },
  {
   "attachments": {},
   "cell_type": "markdown",
   "metadata": {},
   "source": [
    "Sequential model (顺序模型)一层层搭积木\n",
    "Functional model (函数模型)模型有残差等等需要函数式\n",
    "Subclassing model (子类化模型)自定义模型 最为高级\n",
    "以下只介绍函数式和子类化模型\n",
    "在这之前先对python类继承进行练习"
   ]
  },
  {
   "cell_type": "markdown",
   "metadata": {},
   "source": [
    "　　如果我们要给实例 c 传参，我们就要使用到构造函数，那么构造函数该如何继承，同时子类中又如何定义自己的属性？\n",
    "\n",
    "继承类的构造方法：\n",
    "\n",
    "        1.经典类的写法： 父类名称.__init__(self,参数1，参数2，...)\n",
    "\n",
    "        2. 新式类的写法：super(子类，self).__init__(参数1，参数2，....)"
   ]
  },
  {
   "cell_type": "code",
   "execution_count": 4,
   "metadata": {},
   "outputs": [
    {
     "name": "stdout",
     "output_type": "stream",
     "text": [
      "q is talking....\n",
      "info:  23 chinese\n",
      "n is speaking chinese\n",
      "is walking...\n",
      "q is talking....\n"
     ]
    }
   ],
   "source": [
    "class Person(object):\n",
    "    def __init__(self,name,age):#构造函数自动调用，相当于你调用 Person(name,age)\n",
    "        self.name  = name#self是一个实例你可以把它当一个参数为什么\n",
    "        #比如 a = Person('q',21) c = Person('z',22)时，我要区分a和c这两个实例需要self参数可理解为是 a = Person(a,'q',21)\n",
    "        #c = Person(c,'z',22) 那self.age = age也很好理解了 相当于a.age = 传入的形参age也就是'q'\n",
    "        self.age = age\n",
    "        self.weight = 'weight'\n",
    "    def talk(self,x):\n",
    "        print(x+\" is talking....\")#加+和，都可以‘，’自带一个空格如下\n",
    "    def walk(self):\n",
    "        print('is walking...')\n",
    "\n",
    "class Chinese (Person):\n",
    "    def __init__(self,name,age,language):\n",
    "        super(Chinese,self).__init__(name,age)#b =Chinese('n',23,'chinese') Person看来:谁继承？Chinese类 实例是？b\n",
    "        self.language = language#Chinese 类自己的属性\n",
    "        print(\"info: \",self.age,self.language)\n",
    "    def talk(self):#重构Person中的talk函数重构当然不会对父函数有影响，但再调用Chinese中的talk就是重构后的了\n",
    "        print(self.name,'is speaking chinese')\n",
    "a = Person('q',21)\n",
    "c = Person('z',22)\n",
    "a.talk(a.name)\n",
    "b = Chinese('n',23,'chinese')\n",
    "b.talk()#调用的重构后的talk\n",
    "b.walk()#调用父类Person的walk\n",
    "c.talk(a.name)#注意这里证实了self的作用就是实例的参数a.name出来的就是a的name"
   ]
  },
  {
   "cell_type": "markdown",
   "metadata": {},
   "source": [
    "接下来看看functional model\n",
    "Keras 函数式 API 是一种比 tf.keras.Sequential API 更加灵活的模型创建方式。\n",
    "函数式 API 可以处理具有非线性拓扑的模型、具有共享层的模型，以及具有多个输入或输出的模型。\n",
    "那不如看个多输入的层计算图"
   ]
  },
  {
   "cell_type": "code",
   "execution_count": 5,
   "metadata": {},
   "outputs": [
    {
     "name": "stdout",
     "output_type": "stream",
     "text": [
      "(None, 32)\n",
      "<dtype: 'float32'>\n"
     ]
    }
   ],
   "source": [
    "inputs1 = tf.keras.Input(shape = (32,))#为计算图创建一个输入节点，先假定样本形状（32，）\n",
    "inputs2 = tf.keras.Input(shape = (32,))\n",
    "print(inputs1.shape)\n",
    "print(inputs1.dtype)"
   ]
  },
  {
   "cell_type": "code",
   "execution_count": 6,
   "metadata": {},
   "outputs": [],
   "source": [
    "dense = layers.Dense(64,activation='relu')\n",
    "x1 = dense(inputs1)#为计算图添加节点注意指向 相当于x1 = layers.Dense(64, activation='relu')(inputs1)\n",
    "#知道为啥这么写了把为啥叫函数式了吧\n",
    "x2 = dense(inputs2)"
   ]
  },
  {
   "cell_type": "code",
   "execution_count": 7,
   "metadata": {},
   "outputs": [],
   "source": [
    "x = tf.concat?"
   ]
  },
  {
   "cell_type": "code",
   "execution_count": 8,
   "metadata": {},
   "outputs": [
    {
     "data": {
      "text/plain": [
       "TensorShape([None, 128])"
      ]
     },
     "execution_count": 8,
     "metadata": {},
     "output_type": "execute_result"
    }
   ],
   "source": [
    "x = tf.concat([x1,x2],axis= -1)#沿着某一维度连接tensor axis = -1就是倒数第一个维度\n",
    "x.shape"
   ]
  },
  {
   "cell_type": "code",
   "execution_count": 9,
   "metadata": {},
   "outputs": [],
   "source": [
    "x = layers.Dense(32,activation='relu')(x)\n",
    "prediction = layers.Dense(10)(x)"
   ]
  },
  {
   "cell_type": "code",
   "execution_count": 11,
   "metadata": {},
   "outputs": [
    {
     "name": "stdout",
     "output_type": "stream",
     "text": [
      "Model: \"model\"\n",
      "__________________________________________________________________________________________________\n",
      "Layer (type)                    Output Shape         Param #     Connected to                     \n",
      "==================================================================================================\n",
      "input_1 (InputLayer)            [(None, 32)]         0                                            \n",
      "__________________________________________________________________________________________________\n",
      "input_2 (InputLayer)            [(None, 32)]         0                                            \n",
      "__________________________________________________________________________________________________\n",
      "dense (Dense)                   (None, 64)           2112        input_1[0][0]                    \n",
      "                                                                 input_2[0][0]                    \n",
      "__________________________________________________________________________________________________\n",
      "tf_op_layer_concat (TensorFlowO [(None, 128)]        0           dense[0][0]                      \n",
      "                                                                 dense[1][0]                      \n",
      "__________________________________________________________________________________________________\n",
      "dense_1 (Dense)                 (None, 32)           4128        tf_op_layer_concat[0][0]         \n",
      "__________________________________________________________________________________________________\n",
      "dense_2 (Dense)                 (None, 10)           330         dense_1[0][0]                    \n",
      "==================================================================================================\n",
      "Total params: 6,570\n",
      "Trainable params: 6,570\n",
      "Non-trainable params: 0\n",
      "__________________________________________________________________________________________________\n"
     ]
    }
   ],
   "source": [
    "model = tf.keras.Model(inputs = [inputs1,inputs2], outputs = prediction)#通过在层计算图中指定模型的输入和输出来创建 Model\n",
    "\n",
    "model.summary()"
   ]
  },
  {
   "cell_type": "code",
   "execution_count": 14,
   "metadata": {},
   "outputs": [
    {
     "data": {
      "image/png": "[encoded data removed]",
      "text/plain": [
       "<IPython.core.display.Image object>"
      ]
     },
     "execution_count": 14,
     "metadata": {},
     "output_type": "execute_result"
    }
   ],
   "source": [
    "tf.keras.utils.plot_model(model,'a functional model.png')#输出计算图看看"
   ]
  },
  {
   "cell_type": "code",
   "execution_count": 15,
   "metadata": {},
   "outputs": [
    {
     "data": {
      "image/png": "[encoded data removed]",
      "text/plain": [
       "<IPython.core.display.Image object>"
      ]
     },
     "execution_count": 15,
     "metadata": {},
     "output_type": "execute_result"
    }
   ],
   "source": [
    "tf.keras.utils.plot_model(model,'a functional model info.png',show_shapes=True)#输出计算图看看2"
   ]
  },
  {
   "cell_type": "markdown",
   "metadata": {},
   "source": [
    "模型子类化 \n",
    "\n",
    "通过子类化tf.keras.Model和定义自己的前向传播模型来构建完全可定制的模型。\n",
    "\n",
    "和eager execution模式相辅相成。可以自定义层layer也可以自定义model\n",
    "详情可以看https://www.tensorflow.org/guide/keras/custom_layers_and_models#model_%E7%B1%BB\n",
    "有非常多可自定义的比如让权重不可训练（后向传播不参与不更新）\n",
    "让某些层dropout等在训练和预测时有不同行为\n",
    "层递归 等等方法"
   ]
  },
  {
   "cell_type": "code",
   "execution_count": 9,
   "metadata": {},
   "outputs": [],
   "source": [
    "class Linear1(layers.Layer):#自定义w，b 和前向传播\n",
    "    def __init__ (self, units = 32, input_dim =32):\n",
    "        super(Linear1,self).__init__()#继承layers.Layer父类\n",
    "        self.w = self.add_weight(\n",
    "            shape=(input_dim,units),initializer='random_normal',trainable=True#add_weight可以方便定义权重初始化 shape等等\n",
    "            #trainable =False则是不可训练权重\n",
    "        )\n",
    "        self.b = self.add_weight(\n",
    "            shape=(units,),initializer = 'zeros',trainable = True)\n",
    "    \n",
    "    def call(self,inputs):#没仔细看原码不过应该是重构了call前向传播这个函数\n",
    "        return tf.matmul(inputs,self.w) + self.b#tf.matmul矩阵乘法 \n",
    "    #注意这不是逻辑回归2分类一个输出而是n个输出\n",
    "    #注意为什么是Xw+b不是wX+b 因为数学计算时在一元时我们默认x = (x1,x2,x3...xd)T是列向量\n",
    "    #数据x是mxd进来的数据是1xd的行向量 w是dxn b是nx1列向量 so xw+b才是正解 多元时Xw那个时一样的"
   ]
  },
  {
   "cell_type": "markdown",
   "metadata": {},
   "source": [
    "最佳做法：将权重创建推迟到得知输入的形状之后\n",
    "在许多情况下，您可能事先不知道输入的大小，并希望在得知该值时（对层进行实例化后的某个时间）再延迟创建权重。\n",
    "在 Keras API 中，我们建议您在层的 build(self, inputs_shape) 方法中创建层的权重。如下所示：\n",
    "这样在创建实例时w和b就不会被预先创建\n",
    "当对层进行实例化真有输入时再创建w和b 原keras里后面层也不用预先定义输入层可能相似写法\n",
    "\n",
    "实现自己的层的最佳方法是扩展tf.keras.Layer类并实现：\n",
    "\n",
    "__init__()函数，你可以在其中执行所有与输入无关的初始化\n",
    "build()函数，可以获得输入张量的形状，并可以进行其余的初始化\n",
    "call()函数，构建网络结构，进行前向传播"
   ]
  },
  {
   "cell_type": "markdown",
   "metadata": {},
   "source": [
    "关于tf.nn.relu 和tf.keras.activations.relu区别\n",
    "tf.nn.relu is a TensorFlow specific whereas tf.keras.activations.relu has more uses in Keras own library. If I create a NN with only TF, I will most probably use tf.nn.relu and if I am creating a Keras Sequential model then I will use tf.keras.activations.relu.\n",
    "而且tf2.0里 tf.kearas.activation.relu可调参数多"
   ]
  },
  {
   "cell_type": "code",
   "execution_count": 10,
   "metadata": {},
   "outputs": [],
   "source": [
    "class Linear2(layers.Layer):\n",
    "    def __init__ (self,units = 32):\n",
    "        super(Linear2,self).__init__()\n",
    "        self.units = units#定义了属性units默认32\n",
    "    \n",
    "    def build(self,input_shape):\n",
    "        self.w = self.add_weight(shape = (input_shape[-1],self.units),\n",
    "                                 initializer='random_normal',\n",
    "                                 trainable= True)\n",
    "        self.b = self.add_weight(shape= (self.units,),\n",
    "                                 initializer = 'random_normal',\n",
    "                                 trainable = True)\n",
    "    def call(self,inputs):\n",
    "        x = tf.matmul(inputs,self.w) + self.b#tf.matmul矩阵乘法 \n",
    "        x = tf.keras.activations.relu(x,alpha=0.0, max_value=None, threshold=0)\n",
    "        return x"
   ]
  },
  {
   "cell_type": "code",
   "execution_count": 11,
   "metadata": {},
   "outputs": [],
   "source": [
    "#linear_layer = Linear1(32,32)#这个显存加了300多m\n",
    "#linear_layer = Linear2(32)#这个显存基本没变 显然这个好一些"
   ]
  },
  {
   "cell_type": "markdown",
   "metadata": {},
   "source": [
    "接下来model子类化"
   ]
  },
  {
   "cell_type": "code",
   "execution_count": 20,
   "metadata": {},
   "outputs": [],
   "source": [
    "class MyModel(tf.keras.Model):\n",
    "    def __init__ (self,num_classes = 10):\n",
    "        super(MyModel,self).__init__(name = 'my_model')\n",
    "        self.num_classes = num_classes\n",
    "        #self.dense_1 = Linear2(32)\n",
    "        self.dense_1 = layers.Dense(32, activation='relu') \n",
    "        self.dense_2 = layers.Dense(num_classes)\n",
    "    \n",
    "    def call(self,inputs):\n",
    "        x = self.dense_1(inputs)\n",
    "        x = self.dense_2(x)\n",
    "        return x"
   ]
  },
  {
   "cell_type": "code",
   "execution_count": 28,
   "metadata": {},
   "outputs": [
    {
     "name": "stdout",
     "output_type": "stream",
     "text": [
      "Model: \"my_model\"\n",
      "_________________________________________________________________\n",
      "Layer (type)                 Output Shape              Param #   \n",
      "=================================================================\n",
      "dense_19 (Dense)             (None, 10, 32)            1056      \n",
      "_________________________________________________________________\n",
      "dense_20 (Dense)             (None, 10, 5)             165       \n",
      "=================================================================\n",
      "Total params: 1,221\n",
      "Trainable params: 1,221\n",
      "Non-trainable params: 0\n",
      "_________________________________________________________________\n"
     ]
    }
   ],
   "source": [
    "inputs3 = tf.keras.Input(shape = (10,32))#为计算图创建一个输入节点，先假定样本形状（32，）\n",
    "my_model = MyModel(num_classes=5)\n",
    "my_model.build((10,32))\n",
    "my_model.call(inputs3)\n",
    "my_model.summary()#只build只能输入input_shape,并不知道具体数据进去了这些层怎么用的。\n",
    "#所以不知道每层output shape 所以会输出为 multiple ，call调用了之后输入一个定义好的input,这样才知道具体output shape"
   ]
  },
  {
   "cell_type": "code",
   "execution_count": null,
   "metadata": {},
   "outputs": [],
   "source": []
  },
  {
   "cell_type": "code",
   "execution_count": null,
   "metadata": {},
   "outputs": [],
   "source": []
  }
 ],
 "metadata": {
  "kernelspec": {
   "display_name": "Python 3",
   "language": "python",
   "name": "python3"
  },
  "language_info": {
   "codemirror_mode": {
    "name": "ipython",
    "version": 3
   },
   "file_extension": ".py",
   "mimetype": "text/x-python",
   "name": "python",
   "nbconvert_exporter": "python",
   "pygments_lexer": "ipython3",
   "version": "3.7.7"
  }
 },
 "nbformat": 4,
 "nbformat_minor": 4
}
