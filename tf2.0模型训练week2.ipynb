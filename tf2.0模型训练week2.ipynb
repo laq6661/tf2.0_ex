{
 "cells": [
  {
   "cell_type": "code",
   "execution_count": 1,
   "metadata": {},
   "outputs": [],
   "source": [
    "import tensorflow as tf\n",
    "from tensorflow.keras import layers\n",
    "import numpy as np"
   ]
  },
  {
   "cell_type": "code",
   "execution_count": 2,
   "metadata": {},
   "outputs": [
    {
     "name": "stdout",
     "output_type": "stream",
     "text": [
      "2.1.0\n",
      "WARNING:tensorflow:From <ipython-input-2-8127ec6f366a>:2: is_gpu_available (from tensorflow.python.framework.test_util) is deprecated and will be removed in a future version.\n",
      "Instructions for updating:\n",
      "Use `tf.config.list_physical_devices('GPU')` instead.\n",
      "True\n",
      "True\n"
     ]
    }
   ],
   "source": [
    "print(tf.__version__)\n",
    "print(tf.test.is_gpu_available())\n",
    "print(tf.test.is_built_with_cuda())"
   ]
  },
  {
   "cell_type": "code",
   "execution_count": 3,
   "metadata": {},
   "outputs": [
    {
     "name": "stdout",
     "output_type": "stream",
     "text": [
      "[PhysicalDevice(name='/physical_device:GPU:0', device_type='GPU')]\n"
     ]
    }
   ],
   "source": [
    "import os\n",
    "os.environ[\"CUDA_DEVICE_ORDER\"]=\"PCI_BUS_ID\"\n",
    "# The GPU id to use, usually either \"0\" or \"1\"\n",
    "os.environ[\"CUDA_VISIBLE_DEVICES\"] = \"0\"   \n",
    "gpus = tf.config.experimental.list_physical_devices(device_type='GPU')\n",
    "print(gpus)\n",
    "for gpu in gpus:\n",
    "    tf.config.experimental.set_memory_growth(gpu,True)#动态分配gpu别让tf一下占满"
   ]
  },
  {
   "cell_type": "markdown",
   "metadata": {},
   "source": [
    "构建模型（顺序模型、函数式模型、子类模型）\n",
    "模型训练：model.fit()\n",
    "模型验证：model.evaluate()\n",
    "模型预测： model.predict()\n",
    "提供许多内置的优化器，损失和指标 通常，不必从头开始创建自己的损失，指标或优化函数，因为所需的可能已经是Keras API的一部分：\n",
    "\n",
    "优化器：\n",
    "\n",
    "SGD() （有或没有动量）\n",
    "RMSprop()\n",
    "Adam()\n",
    "损失：\n",
    "\n",
    "MeanSquaredError()\n",
    "KLDivergence()\n",
    "CosineSimilarity()\n",
    "指标：\n",
    "\n",
    "AUC()\n",
    "Precision()\n",
    "Recall()\n",
    "另外，如果想用上述的默认设置，那么在很多情况下，可以通过字符串标识符指定优化器，损失和指标：\n",
    "\n",
    "先写个自定义的层连连手"
   ]
  },
  {
   "cell_type": "code",
   "execution_count": 4,
   "metadata": {},
   "outputs": [],
   "source": [
    "class MyLinear(layers.Layer):\n",
    "    def __init__(self,units = 64):\n",
    "        super(MyLinear,self).__init__()\n",
    "        self.units = units\n",
    "        \n",
    "    def build(self,input_shape):\n",
    "        self.w = self.add_weight(shape=(input_shape[-1],self.units), \n",
    "                                 initializer = 'random_normal',\n",
    "                                 trainable = True,\n",
    "                                 name = 'w')\n",
    "        self.b = self.add_weight(shape =(self.units,),\n",
    "                                 initializer ='random_normal',\n",
    "                                 trainable = True,\n",
    "                                 name = 'b')\n",
    "        \n",
    "    def call(self,inputs):\n",
    "        x = tf.matmul(inputs,self.w) + self.b\n",
    "        x = tf.keras.activations.relu(x,alpha = 0.0)\n",
    "        return x"
   ]
  },
  {
   "cell_type": "markdown",
   "metadata": {},
   "source": [
    "接下来模型子类化"
   ]
  },
  {
   "cell_type": "code",
   "execution_count": 5,
   "metadata": {},
   "outputs": [],
   "source": [
    "class MyModel (tf.keras.Model):\n",
    "    def __init__(self,num_class = 10):\n",
    "        super(MyModel,self).__init__()\n",
    "        self.num_class = num_class\n",
    "        self.dense_1 = MyLinear(64)#看看和直接调用的Dense一不一样\n",
    "        self.dense_2 = layers.Dense(64,activation='relu')\n",
    "        self.dense_3 = layers.Dense(num_class)\n",
    "    \n",
    "    def call(self,inputs):\n",
    "        x = self.dense_1(inputs)\n",
    "        x = self.dense_2(x)\n",
    "        pre = self.dense_3(x)\n",
    "        return pre"
   ]
  },
  {
   "cell_type": "code",
   "execution_count": 6,
   "metadata": {},
   "outputs": [
    {
     "name": "stdout",
     "output_type": "stream",
     "text": [
      "Model: \"my_model\"\n",
      "_________________________________________________________________\n",
      "Layer (type)                 Output Shape              Param #   \n",
      "=================================================================\n",
      "my_linear (MyLinear)         (None, 64)                2112      \n",
      "_________________________________________________________________\n",
      "dense (Dense)                (None, 64)                4160      \n",
      "_________________________________________________________________\n",
      "dense_1 (Dense)              (None, 10)                650       \n",
      "=================================================================\n",
      "Total params: 6,922\n",
      "Trainable params: 6,922\n",
      "Non-trainable params: 0\n",
      "_________________________________________________________________\n"
     ]
    }
   ],
   "source": [
    "input1 = tf.keras.Input(shape=(32,))\n",
    "my_model  = MyModel(10)\n",
    "my_model.build(input1.shape)\n",
    "my_model.call(input1)\n",
    "my_model.summary()"
   ]
  },
  {
   "cell_type": "code",
   "execution_count": 7,
   "metadata": {},
   "outputs": [],
   "source": [
    "adam = tf.keras.optimizers.Adam(lr = 0.001,beta_1= 0.9, beta_2=0.999, epsilon=None,decay = 0.0, amsgrad = False)\n",
    "sc = tf.keras.losses.SparseCategoricalCrossentropy(from_logits=True)\n",
    "acc = tf.keras.metrics.Accuracy()\n",
    "my_model.compile(optimizer= adam, loss = sc,metrics=['accuracy'])#注意metrics这项要用中括号 自定义也是一样"
   ]
  },
  {
   "cell_type": "code",
   "execution_count": null,
   "metadata": {},
   "outputs": [],
   "source": []
  },
  {
   "cell_type": "markdown",
   "metadata": {},
   "source": [
    "接下来弄一下数据"
   ]
  },
  {
   "cell_type": "code",
   "execution_count": 8,
   "metadata": {},
   "outputs": [],
   "source": [
    "X_train = np.random.random((1000, 32))\n",
    "Y_train = np.random.randint(10, size=(1000, ))\n",
    "\n",
    "X_val = np.random.random((200, 32))\n",
    "Y_val = np.random.randint(10, size=(200, ))\n",
    "\n",
    "X_test = np.random.random((200, 32))\n",
    "Y_test = np.random.randint(10, size=(200, ))"
   ]
  },
  {
   "cell_type": "code",
   "execution_count": 9,
   "metadata": {},
   "outputs": [
    {
     "name": "stdout",
     "output_type": "stream",
     "text": [
      "Train on 1000 samples, validate on 200 samples\n",
      "Epoch 1/5\n",
      "1000/1000 [==============================] - 0s 431us/sample - loss: 2.3019 - accuracy: 0.1000 - val_loss: 2.3094 - val_accuracy: 0.0750\n",
      "Epoch 2/5\n",
      "1000/1000 [==============================] - 0s 26us/sample - loss: 2.2897 - accuracy: 0.1270 - val_loss: 2.3117 - val_accuracy: 0.0950\n",
      "Epoch 3/5\n",
      "1000/1000 [==============================] - 0s 26us/sample - loss: 2.2819 - accuracy: 0.1320 - val_loss: 2.3186 - val_accuracy: 0.0950\n",
      "Epoch 4/5\n",
      "1000/1000 [==============================] - 0s 26us/sample - loss: 2.2780 - accuracy: 0.1320 - val_loss: 2.3137 - val_accuracy: 0.0800\n",
      "Epoch 5/5\n",
      "1000/1000 [==============================] - 0s 29us/sample - loss: 2.2728 - accuracy: 0.1380 - val_loss: 2.3196 - val_accuracy: 0.1000\n"
     ]
    },
    {
     "data": {
      "text/plain": [
       "<tensorflow.python.keras.callbacks.History at 0x7fce701b03d0>"
      ]
     },
     "execution_count": 9,
     "metadata": {},
     "output_type": "execute_result"
    }
   ],
   "source": [
    "my_model.fit(X_train, Y_train, batch_size=64, epochs=5, validation_data=  (X_val, Y_val))"
   ]
  },
  {
   "cell_type": "markdown",
   "metadata": {},
   "source": [
    "模型验证"
   ]
  },
  {
   "cell_type": "code",
   "execution_count": 10,
   "metadata": {},
   "outputs": [
    {
     "name": "stdout",
     "output_type": "stream",
     "text": [
      "\n",
      "# Evaluate on test data\n",
      "200/200 [==============================] - 0s 218us/sample - loss: 2.3238 - accuracy: 0.0800\n",
      "test loss, test acc: [2.323764123916626, 0.08]\n",
      "\n",
      "# Generate predictions for 3 samples\n",
      "predictions shape: (3, 10)\n"
     ]
    }
   ],
   "source": [
    "print('\\n# Evaluate on test data')\n",
    "results = my_model.evaluate(X_test, Y_test, batch_size=128)#输出模型预测在test数据上的loss acc\n",
    "print('test loss, test acc:', results)\n",
    "\n",
    "# Generate predictions (probabilities -- the output of the last layer)\n",
    "# on new data using `predict`\n",
    "print('\\n# Generate predictions for 3 samples')\n",
    "predictions = my_model.predict(X_test[:3])\n",
    "print('predictions shape:', predictions.shape)"
   ]
  },
  {
   "cell_type": "markdown",
   "metadata": {},
   "source": [
    "样本加权 就比如上次那个草津气温有的统计的不好缺失等等，虽然补全了可是依然不太希望用，样本加权场景满多的"
   ]
  },
  {
   "cell_type": "code",
   "execution_count": 11,
   "metadata": {},
   "outputs": [
    {
     "name": "stdout",
     "output_type": "stream",
     "text": [
      "(1000,) float64\n",
      "[1. 1. 1. 1. 1. 1. 1. 1. 1. 1. 1. 1. 1. 1. 1. 1. 1. 1. 1. 1. 1. 1. 1. 1.\n",
      " 1. 1. 1. 1. 1. 1. 1. 1. 1. 1. 1. 1. 1. 1. 1. 1. 1. 1. 1. 1. 1. 1. 1. 1.\n",
      " 1. 1. 1. 1. 1. 1. 1. 1. 1. 1. 1. 1. 1. 1. 1. 1. 1. 1. 1. 1. 1. 1. 1. 1.\n",
      " 1. 1. 1. 1. 1. 1. 1. 1. 1. 1. 1. 1. 1. 1. 1. 1. 1. 1. 1. 1. 1. 1. 1. 1.\n",
      " 1. 1. 1. 1.]\n",
      "[array([False, False, False, False, False, False, False, False, False,\n",
      "       False, False,  True, False, False, False, False, False, False,\n",
      "       False, False,  True, False, False, False, False, False,  True,\n",
      "       False, False, False, False,  True, False, False, False, False,\n",
      "       False, False,  True, False,  True, False, False, False, False,\n",
      "       False, False, False, False, False, False, False,  True, False,\n",
      "       False, False, False, False, False, False,  True, False, False,\n",
      "       False, False, False,  True, False, False, False, False, False,\n",
      "       False, False,  True, False, False,  True, False, False, False,\n",
      "       False, False, False, False, False, False, False, False, False,\n",
      "       False, False,  True, False, False, False, False, False, False,\n",
      "       False, False,  True, False, False, False, False, False, False,\n",
      "       False, False, False, False, False, False, False, False, False,\n",
      "       False, False, False,  True, False, False, False, False, False,\n",
      "       False, False, False, False, False, False, False, False, False,\n",
      "        True, False, False, False, False, False, False,  True, False,\n",
      "       False, False, False, False, False, False, False, False, False,\n",
      "       False, False,  True, False, False, False, False, False, False,\n",
      "       False, False, False,  True, False,  True, False, False, False,\n",
      "       False,  True, False, False, False, False, False, False, False,\n",
      "       False, False, False, False,  True, False, False, False, False,\n",
      "       False, False, False, False, False, False, False, False, False,\n",
      "       False, False, False, False, False, False, False, False, False,\n",
      "       False, False,  True, False, False, False, False, False, False,\n",
      "       False, False, False, False, False, False, False, False, False,\n",
      "       False, False, False, False, False, False, False, False, False,\n",
      "       False, False,  True, False, False,  True, False,  True,  True,\n",
      "       False, False, False, False, False, False, False, False, False,\n",
      "       False, False, False, False, False, False, False, False, False,\n",
      "       False, False, False, False, False, False, False, False,  True,\n",
      "        True,  True,  True, False, False, False, False, False, False,\n",
      "       False, False,  True, False, False,  True, False, False, False,\n",
      "       False, False, False, False, False, False, False, False, False,\n",
      "       False,  True, False, False, False, False, False, False, False,\n",
      "       False, False, False, False, False, False, False, False, False,\n",
      "       False,  True, False, False,  True, False, False, False, False,\n",
      "       False, False, False, False, False, False, False, False, False,\n",
      "        True, False, False, False, False, False, False,  True, False,\n",
      "       False, False, False, False, False, False, False, False, False,\n",
      "       False, False, False, False, False, False, False, False,  True,\n",
      "       False, False, False, False, False, False, False, False,  True,\n",
      "       False, False,  True, False,  True, False, False,  True, False,\n",
      "       False, False, False, False, False,  True, False, False,  True,\n",
      "       False, False, False, False, False, False, False, False, False,\n",
      "       False, False, False,  True, False, False, False, False, False,\n",
      "       False,  True,  True,  True, False, False, False,  True,  True,\n",
      "       False, False, False, False, False,  True, False, False, False,\n",
      "       False, False, False,  True,  True, False,  True, False, False,\n",
      "       False, False,  True, False, False, False, False,  True, False,\n",
      "       False, False, False, False, False, False, False, False, False,\n",
      "       False, False, False, False, False, False, False,  True, False,\n",
      "       False, False,  True, False, False, False, False, False,  True,\n",
      "       False, False, False, False, False, False, False, False, False,\n",
      "       False, False, False, False, False, False, False, False, False,\n",
      "       False, False, False, False, False,  True, False, False, False,\n",
      "       False, False, False, False, False, False, False, False, False,\n",
      "       False, False, False, False, False, False, False, False,  True,\n",
      "       False, False, False, False, False,  True, False, False, False,\n",
      "        True, False, False, False, False, False, False, False, False,\n",
      "       False, False, False, False, False, False, False, False, False,\n",
      "       False, False, False, False, False, False, False, False, False,\n",
      "       False, False, False, False, False, False, False, False, False,\n",
      "       False, False, False, False, False, False, False,  True,  True,\n",
      "        True, False, False, False, False, False, False, False, False,\n",
      "       False, False, False, False, False, False,  True, False, False,\n",
      "       False, False,  True, False, False, False, False, False, False,\n",
      "       False, False, False, False, False, False, False, False, False,\n",
      "       False, False,  True, False, False, False, False, False, False,\n",
      "       False, False, False, False, False, False, False,  True,  True,\n",
      "       False, False, False, False, False, False, False, False, False,\n",
      "       False, False, False, False, False, False, False, False, False,\n",
      "       False, False, False, False, False, False, False, False, False,\n",
      "       False, False, False, False, False, False, False, False, False,\n",
      "       False, False,  True, False,  True, False, False, False, False,\n",
      "       False, False, False, False, False, False, False, False, False,\n",
      "       False, False,  True, False, False, False, False, False, False,\n",
      "       False, False,  True, False, False, False, False, False, False,\n",
      "       False, False, False, False, False, False, False,  True, False,\n",
      "       False, False, False, False, False, False, False, False, False,\n",
      "       False, False,  True, False, False, False, False, False,  True,\n",
      "       False, False, False, False,  True,  True, False, False, False,\n",
      "       False, False, False, False, False, False, False, False, False,\n",
      "       False, False, False, False, False, False, False, False, False,\n",
      "       False, False, False, False, False,  True, False, False, False,\n",
      "       False, False, False, False, False, False, False, False, False,\n",
      "       False, False, False, False, False, False, False,  True, False,\n",
      "       False, False, False,  True, False,  True, False,  True, False,\n",
      "       False, False, False, False, False, False, False, False, False,\n",
      "        True, False, False,  True, False, False, False, False, False,\n",
      "       False, False, False, False, False, False, False, False, False,\n",
      "       False, False, False, False, False, False, False, False, False,\n",
      "       False, False, False, False, False, False, False, False, False,\n",
      "       False, False, False, False, False, False, False,  True, False,\n",
      "       False, False, False, False, False, False, False, False, False,\n",
      "       False, False, False, False, False, False, False, False, False,\n",
      "       False, False, False, False, False, False, False, False, False,\n",
      "       False, False, False, False, False, False, False, False, False,\n",
      "       False,  True,  True, False, False,  True, False, False, False,\n",
      "       False, False, False, False, False, False, False, False, False,\n",
      "       False, False, False, False,  True, False, False, False,  True,\n",
      "       False, False, False, False, False, False, False, False, False,\n",
      "       False, False,  True, False, False, False, False, False, False,\n",
      "       False, False, False,  True, False, False, False, False, False,\n",
      "       False, False,  True, False, False, False, False, False, False,\n",
      "       False,  True, False, False, False, False, False, False, False,\n",
      "       False, False, False, False, False, False, False, False, False,\n",
      "       False, False, False, False, False, False, False, False, False,\n",
      "       False, False, False, False, False, False, False, False, False,\n",
      "       False, False,  True,  True, False, False, False, False, False,\n",
      "       False, False, False, False, False, False, False, False, False,\n",
      "       False,  True, False, False, False, False, False, False, False,\n",
      "        True])]\n",
      "[1. 1. 1. 1. 1. 1. 1. 1. 1. 1. 1. 2. 1. 1. 1. 1. 1. 1. 1. 1. 2. 1. 1. 1.\n",
      " 1. 1. 2. 1. 1. 1. 1. 2. 1. 1. 1. 1. 1. 1. 2. 1. 2. 1. 1. 1. 1. 1. 1. 1.\n",
      " 1. 1. 1. 1. 2. 1. 1. 1. 1. 1. 1. 1. 2. 1. 1. 1. 1. 1. 2. 1. 1. 1. 1. 1.\n",
      " 1. 1. 2. 1. 1. 2. 1. 1. 1. 1. 1. 1. 1. 1. 1. 1. 1. 1. 1. 1. 2. 1. 1. 1.\n",
      " 1. 1. 1. 1.]\n"
     ]
    }
   ],
   "source": [
    "sample_weight = np.ones(shape =(len(Y_train),))\n",
    "print(sample_weight.shape,sample_weight.dtype)\n",
    "print(sample_weight[:100])\n",
    "print([Y_train==5])\n",
    "sample_weight[Y_train==5] = 2.#这一步很巧Y_train = 5这个切片正好拿来用\n",
    "print(sample_weight[:100])"
   ]
  },
  {
   "cell_type": "code",
   "execution_count": 12,
   "metadata": {},
   "outputs": [
    {
     "name": "stdout",
     "output_type": "stream",
     "text": [
      "WARNING:tensorflow:sample_weight modes were coerced from\n",
      "  ...\n",
      "    to  \n",
      "  ['...']\n",
      "Train on 1000 samples\n",
      "Epoch 1/4\n",
      "1000/1000 [==============================] - 0s 254us/sample - loss: 2.4780 - accuracy: 0.1220\n",
      "Epoch 2/4\n",
      "1000/1000 [==============================] - 0s 28us/sample - loss: 2.4638 - accuracy: 0.1050\n",
      "Epoch 3/4\n",
      "1000/1000 [==============================] - 0s 21us/sample - loss: 2.4491 - accuracy: 0.1170\n",
      "Epoch 4/4\n",
      "1000/1000 [==============================] - 0s 24us/sample - loss: 2.4402 - accuracy: 0.1120\n"
     ]
    },
    {
     "data": {
      "text/plain": [
       "<tensorflow.python.keras.callbacks.History at 0x7fce7022af10>"
      ]
     },
     "execution_count": 12,
     "metadata": {},
     "output_type": "execute_result"
    }
   ],
   "source": [
    "my_model.fit(X_train,Y_train,sample_weight = sample_weight,batch_size = 64,epochs =4)"
   ]
  },
  {
   "cell_type": "markdown",
   "metadata": {},
   "source": [
    "模型加权"
   ]
  },
  {
   "cell_type": "code",
   "execution_count": 13,
   "metadata": {},
   "outputs": [
    {
     "name": "stdout",
     "output_type": "stream",
     "text": [
      "WARNING:tensorflow:sample_weight modes were coerced from\n",
      "  ...\n",
      "    to  \n",
      "  ['...']\n",
      "Train on 1000 samples\n",
      "Epoch 1/4\n",
      "1000/1000 [==============================] - 0s 24us/sample - loss: 2.7277 - accuracy: 0.1060\n",
      "Epoch 2/4\n",
      "1000/1000 [==============================] - 0s 20us/sample - loss: 2.6989 - accuracy: 0.1010\n",
      "Epoch 3/4\n",
      "1000/1000 [==============================] - 0s 22us/sample - loss: 2.6871 - accuracy: 0.1040\n",
      "Epoch 4/4\n",
      "1000/1000 [==============================] - 0s 21us/sample - loss: 2.6711 - accuracy: 0.1070\n"
     ]
    },
    {
     "data": {
      "text/plain": [
       "<tensorflow.python.keras.callbacks.History at 0x7fce5078c090>"
      ]
     },
     "execution_count": 13,
     "metadata": {},
     "output_type": "execute_result"
    }
   ],
   "source": [
    "class_weight = {0: 1., 1: 1., 2: 1., 3: 1., 4: 1.,\n",
    "                5: 2.,\n",
    "                6: 1., 7: 1., 8: 1., 9: 1.}\n",
    "my_model.fit(X_train,Y_train,sample_weight = sample_weight,class_weight= class_weight,batch_size = 64,epochs =4)"
   ]
  },
  {
   "cell_type": "markdown",
   "metadata": {},
   "source": [
    "使用回调函数\n",
    "Keras中的回调是在训练期间（在某个时期开始时，在批处理结束时，在某个时期结束时等）在不同时间点调用的对象，这些对象可用于实现以下行为：\n",
    "\n",
    "在训练过程中的不同时间点进行验证（除了内置的按时间段验证）\n",
    "\n",
    "定期或在超过特定精度阈值时对模型进行检查\n",
    "\n",
    "当训练似乎停滞不前时，更改模型的学习率\n",
    "\n",
    "当训练似乎停滞不前时，对顶层进行微调\n",
    "\n",
    "在训练结束或超出特定性能阈值时发送电子邮件或即时消息通知 等等。 回调可以作为列表传递给model.fit：\n",
    "许多内置的回调可用\n",
    "ModelCheckpoint：定期保存模型。\n",
    "EarlyStopping：当培训不再改善验证指标时，停止培训。\n",
    "TensorBoard：定期编写可在TensorBoard中可视化的模型日志（更多详细信息，请参见“可视化”部分）。\n",
    "CSVLogger：将损失和指标数据流式传输到CSV文件。 等等\n",
    "\n",
    "3.1 EarlyStopping(早停)\n",
    "monitor: 被监测的数据。\n",
    "min_delta: 在被监测的数据中被认为是提升的最小变化， 例如，小于 min_delta 的绝对变化会被认为没有提升。\n",
    "patience: 没有进步的训练轮数，在这之后训练就会被停止。\n",
    "verbose: 详细信息模式。\n",
    "mode: {auto, min, max} 其中之一。 在 min 模式中， 当被监测的数据停止下降，训练就会停止；在 max 模式中，当被监测的数据停止上升，训练就会停止；在 auto 模式中，方向会自动从被监测的数据的名字中判断出来。"
   ]
  },
  {
   "cell_type": "code",
   "execution_count": 14,
   "metadata": {},
   "outputs": [],
   "source": [
    "tf.keras.callbacks.EarlyStopping?"
   ]
  },
  {
   "cell_type": "code",
   "execution_count": 15,
   "metadata": {},
   "outputs": [],
   "source": [
    "def get_compiled_model():\n",
    "    model = MyModel(10)\n",
    "    adam = tf.keras.optimizers.Adam(lr = 0.001,beta_1= 0.9, beta_2=0.999, epsilon=None,decay = 0.0, amsgrad = False)\n",
    "    sc = tf.keras.losses.SparseCategoricalCrossentropy(from_logits=True)\n",
    "    model.compile(optimizer= adam, loss = sc,metrics=['accuracy'])\n",
    "    return model"
   ]
  },
  {
   "cell_type": "code",
   "execution_count": 16,
   "metadata": {},
   "outputs": [
    {
     "name": "stdout",
     "output_type": "stream",
     "text": [
      "Train on 800 samples, validate on 200 samples\n",
      "Epoch 1/20\n",
      "800/800 [==============================] - 0s 253us/sample - loss: 2.3077 - accuracy: 0.1312 - val_loss: 2.2894 - val_accuracy: 0.1050\n",
      "Epoch 2/20\n",
      "800/800 [==============================] - 0s 27us/sample - loss: 2.2901 - accuracy: 0.1312 - val_loss: 2.2920 - val_accuracy: 0.1050\n",
      "Epoch 3/20\n",
      "800/800 [==============================] - 0s 31us/sample - loss: 2.2850 - accuracy: 0.1325 - val_loss: 2.2934 - val_accuracy: 0.1050\n",
      "Epoch 00003: early stopping\n"
     ]
    },
    {
     "data": {
      "text/plain": [
       "<tensorflow.python.keras.callbacks.History at 0x7fce507241d0>"
      ]
     },
     "execution_count": 16,
     "metadata": {},
     "output_type": "execute_result"
    }
   ],
   "source": [
    "model =get_compiled_model()\n",
    "callbacks = tf.keras.callbacks.EarlyStopping(monitor='val_loss',\n",
    "                                             min_delta=1e-2,\n",
    "                                             patience=2,\n",
    "                                             verbose=1)#翻译一下检测val_loss,当有至少两个epoch，val_loss变化不小于1e-2即1x10^-2则停止\n",
    "model.fit(X_train,Y_train,epochs = 20,batch_size = 64,callbacks = [callbacks],validation_split = 0.2)#3轮就停了 注意callback要中括号"
   ]
  },
  {
   "cell_type": "markdown",
   "metadata": {},
   "source": [
    "3.2 checkpoint模型\n",
    "在相对较大的数据集上训练模型时，至关重要的是要定期保存模型的checkpoint。\n",
    "\n",
    "最简单的方法是使用ModelCheckpoint回调："
   ]
  },
  {
   "cell_type": "code",
   "execution_count": 17,
   "metadata": {},
   "outputs": [],
   "source": [
    "tf.keras.callbacks.ModelCheckpoint?"
   ]
  },
  {
   "cell_type": "code",
   "execution_count": 18,
   "metadata": {},
   "outputs": [
    {
     "name": "stdout",
     "output_type": "stream",
     "text": [
      "Train on 800 samples, validate on 200 samples\n",
      "Epoch 1/3\n",
      " 64/800 [=>............................] - ETA: 1s - loss: 2.3122 - accuracy: 0.0781\n",
      "Epoch 00001: val_loss improved from inf to 2.31440, saving model to /home/liaoqing/桌面/sk_learn_ex/data/my_model_1\n",
      "800/800 [==============================] - 0s 437us/sample - loss: 2.3018 - accuracy: 0.1100 - val_loss: 2.3144 - val_accuracy: 0.1050\n",
      "Epoch 2/3\n",
      " 64/800 [=>............................] - ETA: 0s - loss: 2.3041 - accuracy: 0.0625\n",
      "Epoch 00002: val_loss improved from 2.31440 to 2.30514, saving model to /home/liaoqing/桌面/sk_learn_ex/data/my_model_2\n",
      "800/800 [==============================] - 0s 80us/sample - loss: 2.2876 - accuracy: 0.1300 - val_loss: 2.3051 - val_accuracy: 0.1050\n",
      "Epoch 3/3\n",
      " 64/800 [=>............................] - ETA: 0s - loss: 2.2781 - accuracy: 0.2188\n",
      "Epoch 00003: val_loss did not improve from 2.30514\n",
      "800/800 [==============================] - 0s 59us/sample - loss: 2.2815 - accuracy: 0.1312 - val_loss: 2.3094 - val_accuracy: 0.1050\n"
     ]
    },
    {
     "data": {
      "text/plain": [
       "<tensorflow.python.keras.callbacks.History at 0x7fce505939d0>"
      ]
     },
     "execution_count": 18,
     "metadata": {},
     "output_type": "execute_result"
    }
   ],
   "source": [
    "model = get_compiled_model()\n",
    "checkpoints = tf.keras.callbacks.ModelCheckpoint(filepath='/home/liaoqing/桌面/sk_learn_ex/data/my_model_{epoch}',\n",
    "                                               save_best_only=True,\n",
    "                                               moniter = 'val_loss',\n",
    "                                                save_weights_only=True,\n",
    "                                               verbose = 1)#翻译一下 保存名字。。。指标val_loss 只有当val_loss比当前保存的高时才覆盖保存，只保存weight\n",
    "model.fit(X_train,Y_train,epochs = 3,batch_size = 64,callbacks = [checkpoints],validation_split = 0.2)#这里遇到了一个比较奇葩的bug #\n",
    "#https://github.com/tensorflow/tensorflow/issues/26811 这是bug链接 无法保存，在自定义层里给self.w 和self.b取了名字之后神奇的解决了"
   ]
  },
  {
   "cell_type": "markdown",
   "metadata": {},
   "source": [
    "3.3、使用回调实现动态学习率调整\n",
    "由于优化程序无法访问验证指标，因此无法使用这些计划对象来实现动态学习率计划（例如，当验证损失不再改善时降低学习率）。\n",
    "\n",
    "但是，回调确实可以访问所有指标，包括验证指标！因此，可以通过使用回调来修改优化程序上的当前学习率，从而实现此模式。实际上，它是作为ReduceLROnPlateau回调内置的。\n",
    "\n",
    "ReduceLROnPlateau参数\n",
    "\n",
    "monitor: 被监测的指标。\n",
    "factor: 学习速率被降低的因数。新的学习速率 = 学习速率 * 因数\n",
    "patience: 没有进步的训练轮数，在这之后训练速率会被降低。\n",
    "verbose: 整数。0：安静，1：更新信息。\n",
    "mode: {auto, min, max} 其中之一。如果是 min 模式，学习速率会被降低如果被监测的数据已经停止下降； 在 max 模式，学习塑料会被降低如果被监测的数据已经停止上升； 在 auto 模式，方向会被从被监测的数据中自动推断出来。\n",
    "min_delta: 衡量新的最佳阈值，仅关注重大变化。\n",
    "cooldown: 在学习速率被降低之后，重新恢复正常操作之前等待的训练轮数量。\n",
    "min_lr: 学习速率的下边界。"
   ]
  },
  {
   "cell_type": "code",
   "execution_count": 19,
   "metadata": {},
   "outputs": [
    {
     "name": "stdout",
     "output_type": "stream",
     "text": [
      "Train on 800 samples, validate on 200 samples\n",
      "Epoch 1/20\n",
      " 64/800 [=>............................] - ETA: 1s - loss: 2.3197 - accuracy: 0.0781\n",
      "Epoch 00001: val_loss improved from inf to 2.30646, saving model to /home/liaoqing/桌面/sk_learn_ex/data/my_model_1\n",
      "WARNING:tensorflow:Reduce LR on plateau conditioned on metric `val_acc` which is not available. Available metrics are: loss,accuracy,val_loss,val_accuracy,lr\n",
      "800/800 [==============================] - 0s 325us/sample - loss: 2.3047 - accuracy: 0.1100 - val_loss: 2.3065 - val_accuracy: 0.1050\n",
      "Epoch 2/20\n",
      " 64/800 [=>............................] - ETA: 0s - loss: 2.3012 - accuracy: 0.1406\n",
      "Epoch 00002: val_loss did not improve from 2.30646\n",
      "WARNING:tensorflow:Reduce LR on plateau conditioned on metric `val_acc` which is not available. Available metrics are: loss,accuracy,val_loss,val_accuracy,lr\n",
      "800/800 [==============================] - 0s 33us/sample - loss: 2.2905 - accuracy: 0.1025 - val_loss: 2.3103 - val_accuracy: 0.1150\n",
      "Epoch 3/20\n",
      " 64/800 [=>............................] - ETA: 0s - loss: 2.2771 - accuracy: 0.0312\n",
      "Epoch 00003: val_loss did not improve from 2.30646\n",
      "WARNING:tensorflow:Reduce LR on plateau conditioned on metric `val_acc` which is not available. Available metrics are: loss,accuracy,val_loss,val_accuracy,lr\n",
      "800/800 [==============================] - 0s 32us/sample - loss: 2.2824 - accuracy: 0.1175 - val_loss: 2.3102 - val_accuracy: 0.0850\n",
      "Epoch 4/20\n",
      " 64/800 [=>............................] - ETA: 0s - loss: 2.2656 - accuracy: 0.0781\n",
      "Epoch 00004: val_loss did not improve from 2.30646\n",
      "WARNING:tensorflow:Reduce LR on plateau conditioned on metric `val_acc` which is not available. Available metrics are: loss,accuracy,val_loss,val_accuracy,lr\n",
      "800/800 [==============================] - 0s 31us/sample - loss: 2.2778 - accuracy: 0.1363 - val_loss: 2.3107 - val_accuracy: 0.0950\n",
      "Epoch 5/20\n",
      " 64/800 [=>............................] - ETA: 0s - loss: 2.2364 - accuracy: 0.1875\n",
      "Epoch 00005: val_loss did not improve from 2.30646\n",
      "WARNING:tensorflow:Reduce LR on plateau conditioned on metric `val_acc` which is not available. Available metrics are: loss,accuracy,val_loss,val_accuracy,lr\n",
      "800/800 [==============================] - 0s 36us/sample - loss: 2.2707 - accuracy: 0.1513 - val_loss: 2.3112 - val_accuracy: 0.0850\n",
      "Epoch 6/20\n",
      " 64/800 [=>............................] - ETA: 0s - loss: 2.2576 - accuracy: 0.1250\n",
      "Epoch 00006: val_loss did not improve from 2.30646\n",
      "WARNING:tensorflow:Reduce LR on plateau conditioned on metric `val_acc` which is not available. Available metrics are: loss,accuracy,val_loss,val_accuracy,lr\n",
      "800/800 [==============================] - 0s 30us/sample - loss: 2.2664 - accuracy: 0.1688 - val_loss: 2.3115 - val_accuracy: 0.0900\n",
      "Epoch 7/20\n",
      " 64/800 [=>............................] - ETA: 0s - loss: 2.2417 - accuracy: 0.2188\n",
      "Epoch 00007: val_loss did not improve from 2.30646\n",
      "WARNING:tensorflow:Reduce LR on plateau conditioned on metric `val_acc` which is not available. Available metrics are: loss,accuracy,val_loss,val_accuracy,lr\n",
      "800/800 [==============================] - 0s 32us/sample - loss: 2.2599 - accuracy: 0.1675 - val_loss: 2.3105 - val_accuracy: 0.1050\n",
      "Epoch 8/20\n",
      " 64/800 [=>............................] - ETA: 0s - loss: 2.2409 - accuracy: 0.1250\n",
      "Epoch 00008: val_loss did not improve from 2.30646\n",
      "WARNING:tensorflow:Reduce LR on plateau conditioned on metric `val_acc` which is not available. Available metrics are: loss,accuracy,val_loss,val_accuracy,lr\n",
      "800/800 [==============================] - 0s 33us/sample - loss: 2.2520 - accuracy: 0.1575 - val_loss: 2.3101 - val_accuracy: 0.1200\n",
      "Epoch 9/20\n",
      " 64/800 [=>............................] - ETA: 0s - loss: 2.2282 - accuracy: 0.2188\n",
      "Epoch 00009: val_loss did not improve from 2.30646\n",
      "WARNING:tensorflow:Reduce LR on plateau conditioned on metric `val_acc` which is not available. Available metrics are: loss,accuracy,val_loss,val_accuracy,lr\n",
      "800/800 [==============================] - 0s 30us/sample - loss: 2.2446 - accuracy: 0.1750 - val_loss: 2.3145 - val_accuracy: 0.1150\n",
      "Epoch 10/20\n",
      " 64/800 [=>............................] - ETA: 0s - loss: 2.2293 - accuracy: 0.2031\n",
      "Epoch 00010: val_loss did not improve from 2.30646\n",
      "WARNING:tensorflow:Reduce LR on plateau conditioned on metric `val_acc` which is not available. Available metrics are: loss,accuracy,val_loss,val_accuracy,lr\n",
      "800/800 [==============================] - 0s 31us/sample - loss: 2.2359 - accuracy: 0.1737 - val_loss: 2.3116 - val_accuracy: 0.1050\n",
      "Epoch 11/20\n",
      " 64/800 [=>............................] - ETA: 0s - loss: 2.2040 - accuracy: 0.3125\n",
      "Epoch 00011: val_loss did not improve from 2.30646\n",
      "WARNING:tensorflow:Reduce LR on plateau conditioned on metric `val_acc` which is not available. Available metrics are: loss,accuracy,val_loss,val_accuracy,lr\n",
      "800/800 [==============================] - 0s 28us/sample - loss: 2.2278 - accuracy: 0.1912 - val_loss: 2.3168 - val_accuracy: 0.1000\n",
      "Epoch 12/20\n",
      " 64/800 [=>............................] - ETA: 0s - loss: 2.1983 - accuracy: 0.1719\n",
      "Epoch 00012: val_loss did not improve from 2.30646\n",
      "WARNING:tensorflow:Reduce LR on plateau conditioned on metric `val_acc` which is not available. Available metrics are: loss,accuracy,val_loss,val_accuracy,lr\n",
      "800/800 [==============================] - 0s 31us/sample - loss: 2.2184 - accuracy: 0.1850 - val_loss: 2.3198 - val_accuracy: 0.1200\n",
      "Epoch 13/20\n",
      " 64/800 [=>............................] - ETA: 0s - loss: 2.1809 - accuracy: 0.2500\n",
      "Epoch 00013: val_loss did not improve from 2.30646\n",
      "WARNING:tensorflow:Reduce LR on plateau conditioned on metric `val_acc` which is not available. Available metrics are: loss,accuracy,val_loss,val_accuracy,lr\n",
      "800/800 [==============================] - 0s 35us/sample - loss: 2.2079 - accuracy: 0.2100 - val_loss: 2.3177 - val_accuracy: 0.1150\n",
      "Epoch 14/20\n",
      " 64/800 [=>............................] - ETA: 0s - loss: 2.1882 - accuracy: 0.1875\n",
      "Epoch 00014: val_loss did not improve from 2.30646\n",
      "WARNING:tensorflow:Reduce LR on plateau conditioned on metric `val_acc` which is not available. Available metrics are: loss,accuracy,val_loss,val_accuracy,lr\n",
      "800/800 [==============================] - 0s 30us/sample - loss: 2.2048 - accuracy: 0.1825 - val_loss: 2.3265 - val_accuracy: 0.1250\n",
      "Epoch 15/20\n",
      " 64/800 [=>............................] - ETA: 0s - loss: 2.1618 - accuracy: 0.2500\n",
      "Epoch 00015: val_loss did not improve from 2.30646\n",
      "WARNING:tensorflow:Reduce LR on plateau conditioned on metric `val_acc` which is not available. Available metrics are: loss,accuracy,val_loss,val_accuracy,lr\n",
      "800/800 [==============================] - 0s 30us/sample - loss: 2.1885 - accuracy: 0.2150 - val_loss: 2.3249 - val_accuracy: 0.1450\n",
      "Epoch 16/20\n",
      " 64/800 [=>............................] - ETA: 0s - loss: 2.1676 - accuracy: 0.2500\n",
      "Epoch 00016: val_loss did not improve from 2.30646\n",
      "WARNING:tensorflow:Reduce LR on plateau conditioned on metric `val_acc` which is not available. Available metrics are: loss,accuracy,val_loss,val_accuracy,lr\n",
      "800/800 [==============================] - 0s 33us/sample - loss: 2.1792 - accuracy: 0.2062 - val_loss: 2.3342 - val_accuracy: 0.1200\n",
      "Epoch 17/20\n",
      " 64/800 [=>............................] - ETA: 0s - loss: 2.1578 - accuracy: 0.2500\n",
      "Epoch 00017: val_loss did not improve from 2.30646\n",
      "WARNING:tensorflow:Reduce LR on plateau conditioned on metric `val_acc` which is not available. Available metrics are: loss,accuracy,val_loss,val_accuracy,lr\n",
      "800/800 [==============================] - 0s 35us/sample - loss: 2.1729 - accuracy: 0.2113 - val_loss: 2.3295 - val_accuracy: 0.1250\n",
      "Epoch 18/20\n",
      " 64/800 [=>............................] - ETA: 0s - loss: 2.1865 - accuracy: 0.1562\n",
      "Epoch 00018: val_loss did not improve from 2.30646\n",
      "WARNING:tensorflow:Reduce LR on plateau conditioned on metric `val_acc` which is not available. Available metrics are: loss,accuracy,val_loss,val_accuracy,lr\n",
      "800/800 [==============================] - 0s 34us/sample - loss: 2.1581 - accuracy: 0.2125 - val_loss: 2.3486 - val_accuracy: 0.1150\n",
      "Epoch 19/20\n",
      " 64/800 [=>............................] - ETA: 0s - loss: 2.1065 - accuracy: 0.2031\n",
      "Epoch 00019: val_loss did not improve from 2.30646\n",
      "WARNING:tensorflow:Reduce LR on plateau conditioned on metric `val_acc` which is not available. Available metrics are: loss,accuracy,val_loss,val_accuracy,lr\n"
     ]
    },
    {
     "name": "stdout",
     "output_type": "stream",
     "text": [
      "800/800 [==============================] - 0s 30us/sample - loss: 2.1440 - accuracy: 0.2275 - val_loss: 2.3455 - val_accuracy: 0.1300\n",
      "Epoch 20/20\n",
      " 64/800 [=>............................] - ETA: 0s - loss: 2.1867 - accuracy: 0.2188\n",
      "Epoch 00020: val_loss did not improve from 2.30646\n",
      "WARNING:tensorflow:Reduce LR on plateau conditioned on metric `val_acc` which is not available. Available metrics are: loss,accuracy,val_loss,val_accuracy,lr\n",
      "800/800 [==============================] - 0s 36us/sample - loss: 2.1391 - accuracy: 0.2325 - val_loss: 2.3586 - val_accuracy: 0.1200\n"
     ]
    },
    {
     "data": {
      "text/plain": [
       "<tensorflow.python.keras.callbacks.History at 0x7fce5041dd50>"
      ]
     },
     "execution_count": 19,
     "metadata": {},
     "output_type": "execute_result"
    }
   ],
   "source": [
    "model = get_compiled_model()\n",
    "\n",
    "callbacks3 = [tf.keras.callbacks.ModelCheckpoint(filepath='/home/liaoqing/桌面/sk_learn_ex/data/my_model_{epoch}',\n",
    "                                                 monitor='val_loss',\n",
    "                                                 save_best_only=True,\n",
    "                                                 save_weights_only=True,\n",
    "                                                 verbose =1\n",
    "                                                 ),\n",
    "             tf.keras.callbacks.ReduceLROnPlateau(monitor='val_acc',\n",
    "                                                  mode='max',\n",
    "                                                  factor = 0.5,\n",
    "                                                  patience = 3,\n",
    "                                                  verbose = 1)]#翻译一下关注val_acc,若3个epoch还不上升，学习率x0.5\n",
    "\n",
    "model.fit(X_train,Y_train,epochs = 20,batch_size = 64,callbacks = callbacks3,validation_split = 0.2)"
   ]
  },
  {
   "cell_type": "markdown",
   "metadata": {},
   "source": [
    "多输入多输出模型\n",
    "案例4、将数据传递到多输入，多输出模型\n",
    "在前面的示例中，我们正在考虑一个具有单个输入（shape的张量(32,)）和单个输出（shape的预测张量(10,)）的模型。但是具有多个输入或输出的模型呢？\n",
    "\n",
    "考虑以下模型，该模型具有形状的图像输入(32, 32, 3)（即(height, width, channels)）和形状的时间序列输入(None, 10)（即(timesteps, features)）。我们的模型将具有根据这些输入的组合计算出的两个输出：“得分”（形状(1,)）和五类（形状(5,)）的概率分布。"
   ]
  },
  {
   "cell_type": "code",
   "execution_count": 20,
   "metadata": {},
   "outputs": [],
   "source": [
    "# image_input = tf.keras.Input(shape=(32,32,3),name='img_input')\n",
    "# timeseries_input = tf.keras.Input(shape=(20,10),name = 'ts_input')\n",
    "# class MyModel2 (tf.keras.Model):\n",
    "#     def __init__(self):\n",
    "#         super(MyModel2,self).__init__()\n",
    "#         self.conv_x1 = layers.Conv2D(kernel_size=(3,3),filters=10)\n",
    "#         self.maxpool_x1 = layers.GlobalMaxPool2D()\n",
    "#         self.conv_x2 = layers.Conv1D(3,3)\n",
    "#         self.maxpool_x2 = layers.GlobalMaxPool1D()\n",
    "#         self.sc_dense = layers.Dense(1,name = 'score_output')\n",
    "#         self.class_dense = layers.Dense(5,name = 'class_output')\n",
    "        \n",
    "#     def call(self,inputs):\n",
    "#         x1 = self.conv_x1(inputs[0])\n",
    "#         x1 = self.maxpool_x1(x1)\n",
    "#         x2 = self.conv_x2(inputs[1])\n",
    "#         x2 = self.maxpool_x2(x2)\n",
    "#         #x = self.concatenate([x1,x2],axis = -1)\n",
    "#         x = layers.concatenate([x1,x2],axis=-1)\n",
    "#         score_output = self.sc_dense(x)\n",
    "#         class_output = self.class_dense(x)\n",
    "# #         score_output = layers.Dense(1,name = 'score_output')(x)\n",
    "# #         class_output = layers.Dense(5,name = 'class_output')(x)\n",
    "#         return score_output,class_output\n",
    "\n",
    "# my_model2 = MyModel2()\n",
    "# my_model2([image_input,timeseries_input])#这种写法更好阿\n",
    "# my_model2.summary()\n",
    "# tf.keras.utils.plot_model(my_model2,'multi_input_output_model.png',show_shapes=True)#过于复杂subclasses model 还一堆回答不多不太好解决的bug \n",
    "#不是太必要自我感觉完全可以自定义layer+函数式model"
   ]
  },
  {
   "cell_type": "markdown",
   "metadata": {},
   "source": [
    "函数式"
   ]
  },
  {
   "cell_type": "code",
   "execution_count": 4,
   "metadata": {},
   "outputs": [],
   "source": [
    "image_input = tf.keras.Input(shape=(32,32,3),name='img_input')\n",
    "timeseries_input = tf.keras.Input(shape=(20,10),name = 'ts_input')\n",
    "\n",
    "def MyModel3(image_input,timeseries_input):\n",
    "    x1 = layers.Conv2D(kernel_size=(3,3),filters=10)(image_input)\n",
    "    x1 = layers.GlobalMaxPool2D()(x1)\n",
    "    x2 = layers.Conv1D(3,3)(timeseries_input)\n",
    "    x2 = layers.GlobalMaxPool1D()(x2)\n",
    "    x = layers.concatenate([x1,x2])\n",
    "    score_output = layers.Dense(1,name = 'score_output')(x)\n",
    "    class_output = layers.Dense(5,activation='softmax',name = 'class_output')(x)\n",
    "    model = tf.keras.Model(inputs = [image_input,timeseries_input],\n",
    "                           outputs = [score_output,class_output])\n",
    "    return model\n"
   ]
  },
  {
   "cell_type": "code",
   "execution_count": 5,
   "metadata": {},
   "outputs": [
    {
     "name": "stdout",
     "output_type": "stream",
     "text": [
      "Model: \"model\"\n",
      "__________________________________________________________________________________________________\n",
      "Layer (type)                    Output Shape         Param #     Connected to                     \n",
      "==================================================================================================\n",
      "img_input (InputLayer)          [(None, 32, 32, 3)]  0                                            \n",
      "__________________________________________________________________________________________________\n",
      "ts_input (InputLayer)           [(None, 20, 10)]     0                                            \n",
      "__________________________________________________________________________________________________\n",
      "conv2d (Conv2D)                 (None, 30, 30, 10)   280         img_input[0][0]                  \n",
      "__________________________________________________________________________________________________\n",
      "conv1d (Conv1D)                 (None, 18, 3)        93          ts_input[0][0]                   \n",
      "__________________________________________________________________________________________________\n",
      "global_max_pooling2d (GlobalMax (None, 10)           0           conv2d[0][0]                     \n",
      "__________________________________________________________________________________________________\n",
      "global_max_pooling1d (GlobalMax (None, 3)            0           conv1d[0][0]                     \n",
      "__________________________________________________________________________________________________\n",
      "concatenate (Concatenate)       (None, 13)           0           global_max_pooling2d[0][0]       \n",
      "                                                                 global_max_pooling1d[0][0]       \n",
      "__________________________________________________________________________________________________\n",
      "score_output (Dense)            (None, 1)            14          concatenate[0][0]                \n",
      "__________________________________________________________________________________________________\n",
      "class_output (Dense)            (None, 5)            70          concatenate[0][0]                \n",
      "==================================================================================================\n",
      "Total params: 457\n",
      "Trainable params: 457\n",
      "Non-trainable params: 0\n",
      "__________________________________________________________________________________________________\n"
     ]
    }
   ],
   "source": [
    "my_model3 = MyModel3(image_input,timeseries_input)\n",
    "my_model3.summary()#舒服了"
   ]
  },
  {
   "cell_type": "code",
   "execution_count": 6,
   "metadata": {},
   "outputs": [
    {
     "data": {
      "image/png": "[encoded data removed]",
      "text/plain": [
       "<IPython.core.display.Image object>"
      ]
     },
     "execution_count": 6,
     "metadata": {},
     "output_type": "execute_result"
    }
   ],
   "source": [
    "tf.keras.utils.plot_model(my_model3,'multi_input_output_model.png',show_shapes=True)"
   ]
  },
  {
   "cell_type": "markdown",
   "metadata": {},
   "source": [
    "在编译时，通过将损失函数作为列表传递，我们可以为不同的输出指定不同的损失："
   ]
  },
  {
   "cell_type": "code",
   "execution_count": 7,
   "metadata": {},
   "outputs": [],
   "source": [
    "RMS = tf.keras.optimizers.RMSprop(1e-3)\n",
    "loss = [tf.keras.losses.MeanSquaredError(),\n",
    "        tf.keras.losses.CategoricalCrossentropy(from_logits=True)]"
   ]
  },
  {
   "cell_type": "markdown",
   "metadata": {},
   "source": [
    "由于我们为输出层命名，因此我们还可以通过dict指定每个输出的损失和指标：这比上面那个好一些，更清晰不容易搞错 \n",
    "可以使用以下参数对不同的特定于输出的损失赋予不同的权重（例如，在我们的示例中，我们可能希望通过将某类损失函数赋予更高的权重）\n",
    "loss_weights 当然也可以选择不计算某些输出的损失，比如有的我只用于预测不用于训练\n",
    "\n",
    "model.compile(\n",
    "    optimizer=tf.keras.optimizers.RMSprop(1e-3),\n",
    "    loss={'class_output':tf.keras.losses.CategoricalCrossentropy(from_logits=True)})"
   ]
  },
  {
   "cell_type": "code",
   "execution_count": 8,
   "metadata": {},
   "outputs": [],
   "source": [
    "loss = {'score_output':tf.keras.losses.MeanSquaredError(),\n",
    "        'class_output':tf.keras.losses.CategoricalCrossentropy(from_logits=True)}\n",
    "met = {'score_output':[tf.keras.metrics.MeanAbsolutePercentageError(),\n",
    "                      tf.keras.metrics.MeanAbsoluteError()],\n",
    "       'class_output':[tf.keras.metrics.CategoricalAccuracy()]}#第一个输出我用两个指标，第二个用一个指标\n",
    "loss_weights = {'score_output':2.,\n",
    "                'class_output':1.}\n",
    "my_model3.compile(optimizer=RMS,loss=loss,metrics=met,loss_weights=loss_weights)"
   ]
  },
  {
   "cell_type": "code",
   "execution_count": 9,
   "metadata": {},
   "outputs": [],
   "source": [
    "img_data = np.random.random_sample(size=(100, 32, 32, 3))\n",
    "ts_data = np.random.random_sample(size=(100, 20, 10))\n",
    "score_targets = np.random.random_sample(size=(100, 1))\n",
    "class_targets = np.random.random_sample(size=(100, 5))"
   ]
  },
  {
   "cell_type": "code",
   "execution_count": 10,
   "metadata": {},
   "outputs": [
    {
     "name": "stdout",
     "output_type": "stream",
     "text": [
      "Train on 100 samples\n",
      "Epoch 1/3\n",
      "100/100 [==============================] - 1s 13ms/sample - loss: 5.1948 - score_output_loss: 0.4973 - class_output_loss: 4.0945 - score_output_mean_absolute_percentage_error: 151.4396 - score_output_mean_absolute_error: 0.7087 - class_output_categorical_accuracy: 0.2100\n",
      "Epoch 2/3\n",
      "100/100 [==============================] - 0s 119us/sample - loss: 4.3887 - score_output_loss: 0.2324 - class_output_loss: 3.9364 - score_output_mean_absolute_percentage_error: 72.9379 - score_output_mean_absolute_error: 0.3888 - class_output_categorical_accuracy: 0.2200\n",
      "Epoch 3/3\n",
      "100/100 [==============================] - 0s 135us/sample - loss: 4.1530 - score_output_loss: 0.1120 - class_output_loss: 3.7740 - score_output_mean_absolute_percentage_error: 76.0970 - score_output_mean_absolute_error: 0.2618 - class_output_categorical_accuracy: 0.2400\n"
     ]
    },
    {
     "data": {
      "text/plain": [
       "<tensorflow.python.keras.callbacks.History at 0x7fe4ac50f3d0>"
      ]
     },
     "execution_count": 10,
     "metadata": {},
     "output_type": "execute_result"
    }
   ],
   "source": [
    "my_model3.fit({'img_input': img_data, 'ts_input': ts_data},\n",
    "          {'score_output': score_targets, 'class_output': class_targets},\n",
    "          batch_size=32,\n",
    "              epochs=3)"
   ]
  },
  {
   "cell_type": "code",
   "execution_count": null,
   "metadata": {},
   "outputs": [],
   "source": []
  }
 ],
 "metadata": {
  "kernelspec": {
   "display_name": "Python 3",
   "language": "python",
   "name": "python3"
  },
  "language_info": {
   "codemirror_mode": {
    "name": "ipython",
    "version": 3
   },
   "file_extension": ".py",
   "mimetype": "text/x-python",
   "name": "python",
   "nbconvert_exporter": "python",
   "pygments_lexer": "ipython3",
   "version": "3.7.7"
  }
 },
 "nbformat": 4,
 "nbformat_minor": 4
}
